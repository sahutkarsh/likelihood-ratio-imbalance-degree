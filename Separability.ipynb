{
 "cells": [
  {
   "cell_type": "code",
   "execution_count": 1,
   "metadata": {
    "collapsed": true
   },
   "outputs": [],
   "source": [
    "import pandas as pd\n",
    "import numpy as np\n",
    "import matplotlib.pyplot as plt\n",
    "%matplotlib inline"
   ]
  },
  {
   "cell_type": "markdown",
   "metadata": {},
   "source": [
    "# Balanced"
   ]
  },
  {
   "cell_type": "code",
   "execution_count": 2,
   "metadata": {
    "collapsed": false
   },
   "outputs": [],
   "source": [
    "separated_means = [[-3, 2], [-1.5, 2], [0, 2], [1.5, 2], [3, 2], [-3, 0], [-1.5, 0], [0, 0], [1.5, 0], [3, 0]]\n",
    "overlapped_means = [[-2, 1], [-1.5, 1], [0, 1], [1.5, 1], [2, 1], [-2, 0], [-1.5, 0], [0, 0], [1.5, 0], [2, 0]]\n",
    "highly_overlapped_means = [[-2, 1], [-1.5, 1], [-1, 1], [-0.5, 1], [0, 1], [-2, 0], [-1.5, 0], [-1, 0], [-0.5, 0], [0, 0]]"
   ]
  },
  {
   "cell_type": "code",
   "execution_count": 3,
   "metadata": {
    "collapsed": true
   },
   "outputs": [],
   "source": [
    "size_per_category = 1000"
   ]
  },
  {
   "cell_type": "code",
   "execution_count": 4,
   "metadata": {
    "collapsed": true
   },
   "outputs": [],
   "source": [
    "palette = ['red', 'green', 'blue', 'cyan', 'magenta', 'orange', 'yellow', 'lightgreen', 'skyblue', 'orchid']"
   ]
  },
  {
   "cell_type": "code",
   "execution_count": 5,
   "metadata": {
    "collapsed": false
   },
   "outputs": [],
   "source": [
    "def generate_distribution(mean_array, size_per_category):\n",
    "    points = pd.DataFrame()\n",
    "    x = []\n",
    "    y = []\n",
    "    category = []\n",
    "    index = 0\n",
    "    for mean in mean_array:\n",
    "        gaussian_normal_points = np.random.normal(loc=mean, scale=[0.3,0.3], size=[size_per_category, 2])\n",
    "        x += list(gaussian_normal_points[:, 0])\n",
    "        y += list(gaussian_normal_points[:, 1])\n",
    "        category += [index] * size_per_category\n",
    "        index += 1\n",
    "    points['x'] = x\n",
    "    points['y'] = y\n",
    "    points['category'] = category\n",
    "    return points"
   ]
  },
  {
   "cell_type": "code",
   "execution_count": 6,
   "metadata": {
    "collapsed": true
   },
   "outputs": [],
   "source": [
    "def plot_distribution(distribution):\n",
    "    legend = [('Category '+ str(index+1)) for index in range(10)]\n",
    "    plt.figure(figsize=(15,8))\n",
    "    for index in range(10):\n",
    "        data = distribution[distribution['category'] == index]\n",
    "        plt.scatter(data['x'], data['y'], c=palette[index], s=5)\n",
    "        plt.xlabel('x')\n",
    "        plt.ylabel('y')\n",
    "        plt.legend((legend), loc=1)"
   ]
  },
  {
   "cell_type": "code",
   "execution_count": 7,
   "metadata": {
    "collapsed": false
   },
   "outputs": [],
   "source": [
    "separated = generate_distribution(separated_means, size_per_category)\n",
    "#plot_distribution(separated)"
   ]
  },
  {
   "cell_type": "code",
   "execution_count": 8,
   "metadata": {
    "collapsed": false
   },
   "outputs": [],
   "source": [
    "overlapped = generate_distribution(overlapped_means, size_per_category)\n",
    "#plot_distribution(overlapped)"
   ]
  },
  {
   "cell_type": "code",
   "execution_count": 9,
   "metadata": {
    "collapsed": false
   },
   "outputs": [],
   "source": [
    "highly_overlapped = generate_distribution(highly_overlapped_means, size_per_category)\n",
    "#plot_distribution(highly_overlapped)"
   ]
  },
  {
   "cell_type": "markdown",
   "metadata": {},
   "source": [
    "# Imbalanced"
   ]
  },
  {
   "cell_type": "markdown",
   "metadata": {},
   "source": [
    "Run for r in [0.01, 0.05, 0.1, 0.5, 0.9] and m in [1,9]"
   ]
  },
  {
   "cell_type": "markdown",
   "metadata": {},
   "source": [
    "Simulating for one test case:"
   ]
  },
  {
   "cell_type": "code",
   "execution_count": 10,
   "metadata": {
    "collapsed": true
   },
   "outputs": [],
   "source": [
    "m = 2\n",
    "r = 0.01\n",
    "k = 10\n",
    "imbalanced_size = 2000"
   ]
  },
  {
   "cell_type": "code",
   "execution_count": 11,
   "metadata": {
    "collapsed": false
   },
   "outputs": [],
   "source": [
    "def sample_imbalanced_data(data, imbalanced_size, m, r, k):\n",
    "    p_min = r/10 #for m classes\n",
    "    p_max = (1 - (p_min * m))/(k - m) #for k-m classes\n",
    "    minority_positions = ([p_min] * m + [p_max] * (k - m))\n",
    "    np.random.shuffle(minority_positions)\n",
    "    class_probabilities = [(proba/size_per_category) for proba in minority_positions]\n",
    "    p = [class_probabilities[category] for category in data['category']]\n",
    "    indices = np.arange(len(data))\n",
    "    selected_indices = np.random.choice(indices, imbalanced_size, p=p)\n",
    "    imbalanced_samples = data.iloc[selected_indices, :]\n",
    "    imbalanced_samples.reset_index(inplace=True, drop=True)\n",
    "    return imbalanced_samples"
   ]
  },
  {
   "cell_type": "code",
   "execution_count": 12,
   "metadata": {
    "collapsed": false
   },
   "outputs": [],
   "source": [
    "separated_imbalanced = sample_imbalanced_data(separated, imbalanced_size, m, r, k)\n",
    "#plot_distribution(separated_imbalanced)"
   ]
  },
  {
   "cell_type": "code",
   "execution_count": 13,
   "metadata": {
    "collapsed": false
   },
   "outputs": [],
   "source": [
    "overlapped_imbalanced = sample_imbalanced_data(overlapped, imbalanced_size, m, r, k)\n",
    "#plot_distribution(overlapped_imbalanced)"
   ]
  },
  {
   "cell_type": "code",
   "execution_count": 14,
   "metadata": {
    "collapsed": false
   },
   "outputs": [],
   "source": [
    "highly_overlapped_imbalanced = sample_imbalanced_data(highly_overlapped, imbalanced_size, m, r, k)\n",
    "#plot_distribution(highly_overlapped_imbalanced)"
   ]
  },
  {
   "cell_type": "code",
   "execution_count": 15,
   "metadata": {
    "collapsed": true
   },
   "outputs": [],
   "source": [
    "def imbalance_ratio(data):\n",
    "    value_counts = data['category'].value_counts()\n",
    "    counts = [count for category, count in value_counts.iteritems()]\n",
    "    count_max = max(counts)\n",
    "    count_min = min(counts)\n",
    "    IR = count_max / count_min\n",
    "    return IR"
   ]
  },
  {
   "cell_type": "code",
   "execution_count": 16,
   "metadata": {
    "collapsed": false
   },
   "outputs": [
    {
     "data": {
      "text/plain": [
       "287.0"
      ]
     },
     "execution_count": 16,
     "metadata": {},
     "output_type": "execute_result"
    }
   ],
   "source": [
    "imbalance_ratio(separated_imbalanced)"
   ]
  },
  {
   "cell_type": "code",
   "execution_count": 17,
   "metadata": {
    "collapsed": true
   },
   "outputs": [],
   "source": [
    "def hellinger_distance(vec1, vec2):\n",
    "    return np.sqrt(np.sum((np.sqrt(vec1) - np.sqrt(vec2)) ** 2)) / np.sqrt(2)"
   ]
  },
  {
   "cell_type": "code",
   "execution_count": 18,
   "metadata": {
    "collapsed": false
   },
   "outputs": [],
   "source": [
    "def imbalance_degree(data, c):\n",
    "    value_counts = data['category'].value_counts()\n",
    "    counts = [count for category, count in value_counts.iteritems()]\n",
    "    size = len(data)\n",
    "    p = np.array(counts) / size\n",
    "    if (len(p) < c):\n",
    "        p = np.concatenate((p, [0] * (c-len(p))))\n",
    "    b = [1/c] * c\n",
    "    m = 0\n",
    "    for prob in (p-b):\n",
    "        if prob < 0:\n",
    "            m +=1\n",
    "    p_m = [0] * m + [1/c] * (c-m-1) + [1-(c-m-1)/c]\n",
    "    ID = (hellinger_distance(p,b) / hellinger_distance(p_m,b)) + (m-1)\n",
    "    return ID"
   ]
  },
  {
   "cell_type": "code",
   "execution_count": 19,
   "metadata": {
    "collapsed": false
   },
   "outputs": [
    {
     "data": {
      "text/plain": [
       "1.8082805191866032"
      ]
     },
     "execution_count": 19,
     "metadata": {},
     "output_type": "execute_result"
    }
   ],
   "source": [
    "imbalance_degree(overlapped_imbalanced, k)"
   ]
  },
  {
   "cell_type": "code",
   "execution_count": 20,
   "metadata": {
    "collapsed": false
   },
   "outputs": [],
   "source": [
    "def log_likelihood_index(data):\n",
    "    c = len(np.unique(data['category']))\n",
    "    value_counts = data['category'].value_counts()\n",
    "    size = len(data)\n",
    "    proba = [(count/size) for category, count in value_counts.iteritems()]\n",
    "    summation = np.sum([(p*np.log(p*c)) for p in proba])\n",
    "    LLI = 2 * summation\n",
    "    return LLI"
   ]
  },
  {
   "cell_type": "code",
   "execution_count": 21,
   "metadata": {
    "collapsed": false
   },
   "outputs": [
    {
     "data": {
      "text/plain": [
       "0.4414705008572489"
      ]
     },
     "execution_count": 21,
     "metadata": {},
     "output_type": "execute_result"
    }
   ],
   "source": [
    "log_likelihood_index(separated_imbalanced)"
   ]
  },
  {
   "cell_type": "markdown",
   "metadata": {},
   "source": [
    "# Simulating for all values"
   ]
  },
  {
   "cell_type": "code",
   "execution_count": 22,
   "metadata": {
    "collapsed": true
   },
   "outputs": [],
   "source": [
    "def compute_graphs(distribution, imbalanced_size, k):\n",
    "    results = []\n",
    "    for m in range(1,k):\n",
    "        IR = []\n",
    "        ID = []\n",
    "        LLI = []\n",
    "        for r in [0.01, 0.05, 0.1, 0.5, 0.9]:\n",
    "            imbalanced_data = sample_imbalanced_data(distribution, imbalanced_size, m, r, k)\n",
    "            IR.append(imbalance_ratio(imbalanced_data))\n",
    "            ID.append(imbalance_degree(imbalanced_data, k))\n",
    "            LLI.append(log_likelihood_index(imbalanced_data))\n",
    "        result = {}\n",
    "        result['ir'] = IR\n",
    "        result['id'] = ID\n",
    "        result['lli'] = LLI\n",
    "        results.append(result)\n",
    "    return results"
   ]
  },
  {
   "cell_type": "code",
   "execution_count": 23,
   "metadata": {
    "collapsed": false
   },
   "outputs": [],
   "source": [
    "def plot_graph(distribution, metric, legend, k=10, imbalanced_size=5000):\n",
    "    data_points = compute_graphs(distribution, imbalanced_size, k)\n",
    "    #plt.figure(figsize=(10,6))\n",
    "    index = 0\n",
    "    r_values = [0.01, 0.05, 0.1, 0.5, 0.9]\n",
    "    legend = [('m = ' + str(i)) for i in range(1,10)]\n",
    "    for category in data_points:\n",
    "        scores = category[metric]\n",
    "        plt.plot(r_values, scores)\n",
    "        plt.xlabel('r')\n",
    "        plt.ylabel(metric.upper())\n",
    "        print(scores)\n",
    "    plt.legend((legend), loc=1, fontsize='medium', framealpha=0.2)"
   ]
  },
  {
   "cell_type": "code",
   "execution_count": 24,
   "metadata": {
    "collapsed": false
   },
   "outputs": [
    {
     "name": "stdout",
     "output_type": "stream",
     "text": [
      "[0.19971421427186972, 0.1690024101975275, 0.1368724477792535, 0.032801436926146996, 0.003336005448970572]\n",
      "[0.42977892833737735, 0.36534954033233974, 0.30653049632511065, 0.08774547282639698, 0.004205224979374405]\n",
      "[0.686545126463402, 0.5778725301869249, 0.5078789548266696, 0.12597131726395794, 0.005907405132796809]\n",
      "[0.9741222123231361, 0.8292457966185032, 0.7428246485036576, 0.19171857425885963, 0.009733733008450398]\n",
      "[1.3206913465057946, 1.1326011372328442, 1.0254389367512877, 0.25996357835064343, 0.013065621334613226]\n",
      "[1.7427866661563156, 1.5099968342332006, 1.3065964733433442, 0.354346311735217, 0.019219501633158692]\n",
      "[2.293487277421353, 2.0233685980824587, 1.7574224077823921, 0.5083305665778386, 0.03025850810211858]\n",
      "[3.120767563165834, 2.8120762574754194, 2.469069123667849, 0.7524572797799793, 0.04105063543604333]\n",
      "[4.450889722735083, 4.125209261555479, 3.5468359926092408, 1.2588855810061197, 0.058068780140030515]\n"
     ]
    },
    {
     "data": {
      "image/png": "[encoded data removed]",
      "text/plain": [
       "<matplotlib.figure.Figure at 0x6e91d4e9b0>"
      ]
     },
     "metadata": {},
     "output_type": "display_data"
    }
   ],
   "source": [
    "plot_graph(highly_overlapped, 'lli', legend=True)"
   ]
  },
  {
   "cell_type": "code",
   "execution_count": 25,
   "metadata": {
    "collapsed": false
   },
   "outputs": [
    {
     "name": "stdout",
     "output_type": "stream",
     "text": [
      "[0.1985844221736917, 0.18385129909014858, 0.14114322690953424, 0.03717231199918036, 0.0063479783409775975]\n",
      "[0.4213824112057192, 0.37348291716367116, 0.3117083126446829, 0.07557303970390233, 0.003654964813668435]\n",
      "[0.6947394312249636, 0.5847755612328862, 0.48357913941875935, 0.12511838247667983, 0.005252333866130412]\n",
      "[0.9674088478412436, 0.809049568806957, 0.7218007601557876, 0.19809968640625975, 0.007916890635577819]\n",
      "[1.3364373930587785, 1.144166452346188, 0.9635852649667109, 0.2573263132808626, 0.009718009629063929]\n",
      "[1.7495389395035887, 1.5551825191761017, 1.3289439371427514, 0.33620010777174875, 0.013646749745433218]\n",
      "[2.337431839621303, 2.0538377867691, 1.807912365162958, 0.5223667543439218, 0.02726232869669882]\n",
      "[3.112437155924911, 2.7724561382833213, 2.4606667270412945, 0.7677020237456134, 0.03236903174882419]\n",
      "[4.459768697297714, 4.018591905339443, 3.640284101640011, 1.192933951847358, 0.09198682492391552]\n"
     ]
    },
    {
     "data": {
      "image/png": "[encoded data removed]",
      "text/plain": [
       "<matplotlib.figure.Figure at 0x6e91d4e4a8>"
      ]
     },
     "metadata": {},
     "output_type": "display_data"
    }
   ],
   "source": [
    "plot_graph(overlapped, 'lli', legend=True)"
   ]
  },
  {
   "cell_type": "code",
   "execution_count": 26,
   "metadata": {
    "collapsed": false
   },
   "outputs": [
    {
     "name": "stdout",
     "output_type": "stream",
     "text": [
      "[0.20579103219241976, 0.17446867742412892, 0.14363011914779486, 0.036712387534265034, 0.0034353100362286837]\n",
      "[0.4246996332087946, 0.3708010610865888, 0.30860341490589116, 0.06671213797461764, 0.0017981616941196849]\n",
      "[0.6808441720849894, 0.5846153370272213, 0.4864989485991376, 0.11732383780092541, 0.006426807472231212]\n",
      "[0.9837044008670868, 0.8365070162094492, 0.7134558151014636, 0.18163422874985957, 0.0073792018855199475]\n",
      "[1.3295055357589654, 1.1705259482371106, 0.977475678555432, 0.2510828193914885, 0.009906702351867941]\n",
      "[1.7610068368380423, 1.5516420044763837, 1.3403763504607062, 0.3603821339189097, 0.01634330163542467]\n",
      "[2.2861118673463667, 2.0887299592429533, 1.7894455758714483, 0.5115750137426122, 0.01753927442118657]\n",
      "[3.1095495447941537, 2.7969355840107815, 2.4858270426928435, 0.762053900847786, 0.03462690017617215]\n",
      "[4.455745498102755, 4.069639043947882, 3.547871354910149, 1.1979950182286172, 0.0658186875733191]\n"
     ]
    },
    {
     "data": {
      "image/png": "[encoded data removed]",
      "text/plain": [
       "<matplotlib.figure.Figure at 0x6e93ef7748>"
      ]
     },
     "metadata": {},
     "output_type": "display_data"
    }
   ],
   "source": [
    "plot_graph(separated, 'lli', legend=True)"
   ]
  },
  {
   "cell_type": "code",
   "execution_count": null,
   "metadata": {
    "collapsed": true
   },
   "outputs": [],
   "source": []
  }
 ],
 "metadata": {
  "kernelspec": {
   "display_name": "Python 3",
   "language": "python",
   "name": "python3"
  },
  "language_info": {
   "codemirror_mode": {
    "name": "ipython",
    "version": 3
   },
   "file_extension": ".py",
   "mimetype": "text/x-python",
   "name": "python",
   "nbconvert_exporter": "python",
   "pygments_lexer": "ipython3",
   "version": "3.6.0"
  }
 },
 "nbformat": 4,
 "nbformat_minor": 2
}
