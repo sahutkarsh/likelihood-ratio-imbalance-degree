{
 "cells": [
  {
   "cell_type": "code",
   "execution_count": 1,
   "metadata": {
    "collapsed": true
   },
   "outputs": [],
   "source": [
    "import pandas as pd\n",
    "import numpy as np\n",
    "import matplotlib.pyplot as plt\n",
    "%matplotlib inline"
   ]
  },
  {
   "cell_type": "markdown",
   "metadata": {},
   "source": [
    "# Balanced"
   ]
  },
  {
   "cell_type": "code",
   "execution_count": 2,
   "metadata": {
    "collapsed": false
   },
   "outputs": [],
   "source": [
    "separated_means = [[-3, 2], [-1.5, 2], [0, 2], [1.5, 2], [3, 2], [-3, 0], [-1.5, 0], [0, 0], [1.5, 0], [3, 0]]\n",
    "overlapped_means = [[-2, 1], [-1.5, 1], [0, 1], [1.5, 1], [2, 1], [-2, 0], [-1.5, 0], [0, 0], [1.5, 0], [2, 0]]\n",
    "highly_overlapped_means = [[-2, 1], [-1.5, 1], [-1, 1], [-0.5, 1], [0, 1], [-2, 0], [-1.5, 0], [-1, 0], [-0.5, 0], [0, 0]]"
   ]
  },
  {
   "cell_type": "code",
   "execution_count": 3,
   "metadata": {
    "collapsed": true
   },
   "outputs": [],
   "source": [
    "size_per_category = 1000"
   ]
  },
  {
   "cell_type": "code",
   "execution_count": 4,
   "metadata": {
    "collapsed": true
   },
   "outputs": [],
   "source": [
    "palette = ['red', 'green', 'blue', 'cyan', 'magenta', 'orange', 'yellow', 'lightgreen', 'skyblue', 'orchid']"
   ]
  },
  {
   "cell_type": "code",
   "execution_count": 5,
   "metadata": {
    "collapsed": false
   },
   "outputs": [],
   "source": [
    "def generate_distribution(mean_array, size_per_category):\n",
    "    points = pd.DataFrame()\n",
    "    x = []\n",
    "    y = []\n",
    "    category = []\n",
    "    index = 0\n",
    "    for mean in mean_array:\n",
    "        gaussian_normal_points = np.random.normal(loc=mean, scale=[0.3,0.3], size=[size_per_category, 2])\n",
    "        x += list(gaussian_normal_points[:, 0])\n",
    "        y += list(gaussian_normal_points[:, 1])\n",
    "        category += [index] * size_per_category\n",
    "        index += 1\n",
    "    points['x'] = x\n",
    "    points['y'] = y\n",
    "    points['category'] = category\n",
    "    return points"
   ]
  },
  {
   "cell_type": "code",
   "execution_count": 6,
   "metadata": {
    "collapsed": true
   },
   "outputs": [],
   "source": [
    "def plot_distribution(distribution):\n",
    "    legend = [('Category '+ str(index+1)) for index in range(10)]\n",
    "    plt.figure(figsize=(15,8))\n",
    "    for index in range(10):\n",
    "        data = distribution[distribution['category'] == index]\n",
    "        plt.scatter(data['x'], data['y'], c=palette[index], s=5)\n",
    "        plt.xlabel('x')\n",
    "        plt.ylabel('y')\n",
    "        plt.legend((legend), loc=1)"
   ]
  },
  {
   "cell_type": "code",
   "execution_count": 7,
   "metadata": {
    "collapsed": false
   },
   "outputs": [],
   "source": [
    "separated = generate_distribution(separated_means, size_per_category)\n",
    "#plot_distribution(separated)"
   ]
  },
  {
   "cell_type": "code",
   "execution_count": 8,
   "metadata": {
    "collapsed": false
   },
   "outputs": [],
   "source": [
    "overlapped = generate_distribution(overlapped_means, size_per_category)\n",
    "#plot_distribution(overlapped)"
   ]
  },
  {
   "cell_type": "code",
   "execution_count": 9,
   "metadata": {
    "collapsed": false
   },
   "outputs": [],
   "source": [
    "highly_overlapped = generate_distribution(highly_overlapped_means, size_per_category)\n",
    "#plot_distribution(highly_overlapped)"
   ]
  },
  {
   "cell_type": "markdown",
   "metadata": {},
   "source": [
    "# Imbalanced"
   ]
  },
  {
   "cell_type": "markdown",
   "metadata": {},
   "source": [
    "Run for r in [0.01, 0.05, 0.1, 0.5, 0.9] and m in [1,9]"
   ]
  },
  {
   "cell_type": "markdown",
   "metadata": {},
   "source": [
    "Simulating for one test case:"
   ]
  },
  {
   "cell_type": "code",
   "execution_count": 10,
   "metadata": {
    "collapsed": true
   },
   "outputs": [],
   "source": [
    "m = 2\n",
    "r = 0.01\n",
    "k = 10\n",
    "imbalanced_size = 2000"
   ]
  },
  {
   "cell_type": "code",
   "execution_count": 11,
   "metadata": {
    "collapsed": false
   },
   "outputs": [],
   "source": [
    "def sample_imbalanced_data(data, imbalanced_size, m, r, k):\n",
    "    p_min = r/10 #for m classes\n",
    "    p_max = (1 - (p_min * m))/(k - m) #for k-m classes\n",
    "    minority_positions = ([p_min] * m + [p_max] * (k - m))\n",
    "    np.random.shuffle(minority_positions)\n",
    "    class_probabilities = [(proba/size_per_category) for proba in minority_positions]\n",
    "    p = [class_probabilities[category] for category in data['category']]\n",
    "    indices = np.arange(len(data))\n",
    "    selected_indices = np.random.choice(indices, imbalanced_size, p=p)\n",
    "    imbalanced_samples = data.iloc[selected_indices, :]\n",
    "    imbalanced_samples.reset_index(inplace=True, drop=True)\n",
    "    return imbalanced_samples"
   ]
  },
  {
   "cell_type": "code",
   "execution_count": 12,
   "metadata": {
    "collapsed": false
   },
   "outputs": [],
   "source": [
    "separated_imbalanced = sample_imbalanced_data(separated, imbalanced_size, m, r, k)\n",
    "#plot_distribution(separated_imbalanced)"
   ]
  },
  {
   "cell_type": "code",
   "execution_count": 13,
   "metadata": {
    "collapsed": false
   },
   "outputs": [],
   "source": [
    "overlapped_imbalanced = sample_imbalanced_data(overlapped, imbalanced_size, m, r, k)\n",
    "#plot_distribution(overlapped_imbalanced)"
   ]
  },
  {
   "cell_type": "code",
   "execution_count": 14,
   "metadata": {
    "collapsed": false
   },
   "outputs": [],
   "source": [
    "highly_overlapped_imbalanced = sample_imbalanced_data(highly_overlapped, imbalanced_size, m, r, k)\n",
    "#plot_distribution(highly_overlapped_imbalanced)"
   ]
  },
  {
   "cell_type": "code",
   "execution_count": 15,
   "metadata": {
    "collapsed": true
   },
   "outputs": [],
   "source": [
    "def imbalance_ratio(data):\n",
    "    value_counts = data['category'].value_counts()\n",
    "    counts = [count for category, count in value_counts.iteritems()]\n",
    "    count_max = max(counts)\n",
    "    count_min = min(counts)\n",
    "    IR = count_max / count_min\n",
    "    return IR"
   ]
  },
  {
   "cell_type": "code",
   "execution_count": 17,
   "metadata": {
    "collapsed": true
   },
   "outputs": [],
   "source": [
    "def hellinger_distance(vec1, vec2):\n",
    "    return np.sqrt(np.sum((np.sqrt(vec1) - np.sqrt(vec2)) ** 2)) / np.sqrt(2)"
   ]
  },
  {
   "cell_type": "code",
   "execution_count": 18,
   "metadata": {
    "collapsed": false
   },
   "outputs": [],
   "source": [
    "def imbalance_degree(data, c):\n",
    "    value_counts = data['category'].value_counts()\n",
    "    counts = [count for category, count in value_counts.iteritems()]\n",
    "    size = len(data)\n",
    "    p = np.array(counts) / size\n",
    "    if (len(p) < c):\n",
    "        p = np.concatenate((p, [0] * (c-len(p))))\n",
    "    b = [1/c] * c\n",
    "    m = 0\n",
    "    for prob in (p-b):\n",
    "        if prob < 0:\n",
    "            m +=1\n",
    "    p_m = [0] * m + [1/c] * (c-m-1) + [1-(c-m-1)/c]\n",
    "    ID = (hellinger_distance(p,b) / hellinger_distance(p_m,b)) + (m-1)\n",
    "    return ID"
   ]
  },
  {
   "cell_type": "code",
   "execution_count": 20,
   "metadata": {
    "collapsed": true
   },
   "outputs": [],
   "source": [
    "def log_likelihood_index(data):\n",
    "    c = len(np.unique(data['category']))\n",
    "    b = np.array([1/c] * c)\n",
    "    value_counts = data['category'].value_counts()\n",
    "    size = len(data)\n",
    "    proba = [(count/size) for category, count in value_counts.iteritems()]\n",
    "    n = [count for _, count in value_counts.iteritems()]\n",
    "    summation = np.sum([(p*np.log(p*c)) for p in proba])\n",
    "    LLI = 2 * summation\n",
    "    return LLI"
   ]
  },
  {
   "cell_type": "code",
   "execution_count": 107,
   "metadata": {
    "collapsed": true
   },
   "outputs": [],
   "source": [
    "def tangential_imbalance_degree(data):\n",
    "    c = len(np.unique(data['category']))\n",
    "    b = np.array([1/c] * c)\n",
    "    value_counts = data['category'].value_counts()\n",
    "    size = len(data)\n",
    "    proba = [(count/size) for category, count in value_counts.iteritems()]\n",
    "    n = [count for _, count in value_counts.iteritems()]\n",
    "    TID = np.sum(proba * np.tan(proba-b))\n",
    "    return TID"
   ]
  },
  {
   "cell_type": "markdown",
   "metadata": {},
   "source": [
    "# Simulating for all values"
   ]
  },
  {
   "cell_type": "code",
   "execution_count": 108,
   "metadata": {
    "collapsed": true
   },
   "outputs": [],
   "source": [
    "def compute_graphs(distribution, imbalanced_size, k):\n",
    "    results = []\n",
    "    for m in range(1,k):\n",
    "        IR = []\n",
    "        ID = []\n",
    "        LLI = []\n",
    "        TID = []\n",
    "        for r in [0.01, 0.05, 0.1, 0.5, 0.9]:\n",
    "            imbalanced_data = sample_imbalanced_data(distribution, imbalanced_size, m, r, k)\n",
    "            IR.append(imbalance_ratio(imbalanced_data))\n",
    "            ID.append(imbalance_degree(imbalanced_data, k))\n",
    "            LLI.append(log_likelihood_index(imbalanced_data))\n",
    "            TID.append(tangential_imbalance_degree(imbalanced_data))\n",
    "        result = {}\n",
    "        result['ir'] = IR\n",
    "        result['id'] = ID\n",
    "        result['lli'] = LLI\n",
    "        result['tid'] = TID\n",
    "        results.append(result)\n",
    "    return results"
   ]
  },
  {
   "cell_type": "code",
   "execution_count": 112,
   "metadata": {
    "collapsed": false
   },
   "outputs": [],
   "source": [
    "def plot_graph(distribution, metric, legend, k=10, imbalanced_size=5000):\n",
    "    data_points = compute_graphs(distribution, imbalanced_size, k)\n",
    "    #plt.figure(figsize=(10,6))\n",
    "    index = 0\n",
    "    r_values = [0.01, 0.05, 0.1, 0.5, 0.9999]\n",
    "    legend = [('m = ' + str(i)) for i in range(1,10)]\n",
    "    for category in data_points:\n",
    "        scores = category[metric]\n",
    "        plt.plot(r_values, scores)\n",
    "        plt.xlabel('r')\n",
    "        plt.ylabel(metric.upper())\n",
    "        print(scores)\n",
    "    plt.legend((legend), loc=1, fontsize='medium', framealpha=0.2)"
   ]
  },
  {
   "cell_type": "code",
   "execution_count": 113,
   "metadata": {
    "collapsed": false
   },
   "outputs": [
    {
     "name": "stdout",
     "output_type": "stream",
     "text": [
      "[0.19742866850764437, 0.17831122989733827, 0.13492022521160327, 0.0328512596827005, 0.0028740872250940797]\n",
      "[0.4252156378239013, 0.34779228552062597, 0.31370066350298575, 0.07281578126462444, 0.0063626806612221976]\n",
      "[0.6917624466445629, 0.5977687284913047, 0.5111523624666597, 0.12405868490059624, 0.005310013366664083]\n",
      "[0.9747277944977121, 0.8513283707048452, 0.7105168103180154, 0.17640542199037046, 0.006804877865154654]\n",
      "[1.305224287557901, 1.1497297827950381, 0.9662203739448867, 0.24451436168497911, 0.00874423360502934]\n",
      "[1.760592431120654, 1.5560518936006444, 1.3393352442480386, 0.3774699326277179, 0.016674499682730878]\n",
      "[2.294006763758951, 2.015545978067002, 1.7956481192234162, 0.5324495641822437, 0.01814692325688149]\n",
      "[3.1179583317647492, 2.777696962723722, 2.423160823009392, 0.7717486424418875, 0.039748877995427284]\n",
      "[4.467189265054617, 4.088494037996387, 3.5361480367166704, 1.2490525954227825, 0.06431449866701329]\n"
     ]
    },
    {
     "data": {
      "image/png": "[encoded data removed]",
      "text/plain": [
       "<matplotlib.figure.Figure at 0x68d5c3e358>"
      ]
     },
     "metadata": {},
     "output_type": "display_data"
    }
   ],
   "source": [
    "plot_graph(highly_overlapped, 'lli', legend=True)"
   ]
  },
  {
   "cell_type": "code",
   "execution_count": 114,
   "metadata": {
    "collapsed": false
   },
   "outputs": [
    {
     "name": "stdout",
     "output_type": "stream",
     "text": [
      "[0.01140463444355449, 0.010074780129421274, 0.009466732028985979, 0.0027697338232320905, 0.00034900125456009505]\n",
      "[0.02449226909354552, 0.022990647116609315, 0.021342189575591673, 0.005793788352987729, 0.00044835496436048555]\n",
      "[0.042130828630581284, 0.03906683063050177, 0.03624158884616861, 0.010471439741705345, 0.00087873585998508]\n",
      "[0.0651599450935627, 0.06094251269678401, 0.05349787707044154, 0.018719560855940152, 0.0009132838672358144]\n",
      "[0.09827998925393175, 0.0912104560422079, 0.08069809768905722, 0.02592625377003741, 0.0007743738959918767]\n",
      "[0.14824714992440874, 0.13621193337165477, 0.12368614777593068, 0.035415631284881476, 0.001316689652223346]\n",
      "[0.23303934425352119, 0.21474412362031928, 0.1921879719528734, 0.06003906155777834, 0.0024577652729644442]\n",
      "[0.41590823420720746, 0.3823608883005884, 0.3377803701046235, 0.10458773347503361, 0.004982548201884774]\n",
      "[1.2197327133413827, 1.0842125401014429, 0.9363019409138069, 0.23426553035246975, 0.00871208676373696]\n"
     ]
    },
    {
     "data": {
      "image/png": "[encoded data removed]",
      "text/plain": [
       "<matplotlib.figure.Figure at 0x68d5a8ad68>"
      ]
     },
     "metadata": {},
     "output_type": "display_data"
    }
   ],
   "source": [
    "plot_graph(highly_overlapped, 'tid', legend=True)"
   ]
  },
  {
   "cell_type": "code",
   "execution_count": null,
   "metadata": {
    "collapsed": true
   },
   "outputs": [],
   "source": []
  },
  {
   "cell_type": "code",
   "execution_count": null,
   "metadata": {
    "collapsed": true
   },
   "outputs": [],
   "source": []
  },
  {
   "cell_type": "code",
   "execution_count": null,
   "metadata": {
    "collapsed": true
   },
   "outputs": [],
   "source": []
  }
 ],
 "metadata": {
  "kernelspec": {
   "display_name": "Python 3",
   "language": "python",
   "name": "python3"
  },
  "language_info": {
   "codemirror_mode": {
    "name": "ipython",
    "version": 3
   },
   "file_extension": ".py",
   "mimetype": "text/x-python",
   "name": "python",
   "nbconvert_exporter": "python",
   "pygments_lexer": "ipython3",
   "version": "3.6.0"
  }
 },
 "nbformat": 4,
 "nbformat_minor": 2
}
