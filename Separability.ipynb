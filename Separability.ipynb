{
 "cells": [
  {
   "cell_type": "code",
   "execution_count": 2,
   "metadata": {
    "collapsed": true
   },
   "outputs": [],
   "source": [
    "import pandas as pd\n",
    "import numpy as np\n",
    "import matplotlib.pyplot as plt\n",
    "%matplotlib inline"
   ]
  },
  {
   "cell_type": "markdown",
   "metadata": {},
   "source": [
    "# Balanced"
   ]
  },
  {
   "cell_type": "code",
   "execution_count": 3,
   "metadata": {
    "collapsed": false
   },
   "outputs": [],
   "source": [
    "separated_means = [[-3, 2], [-1.5, 2], [0, 2], [1.5, 2], [3, 2], [-3, 0], [-1.5, 0], [0, 0], [1.5, 0], [3, 0]]\n",
    "overlapped_means = [[-2, 1], [-1.5, 1], [0, 1], [1.5, 1], [2, 1], [-2, 0], [-1.5, 0], [0, 0], [1.5, 0], [2, 0]]\n",
    "highly_overlapped_means = [[-2, 1], [-1.5, 1], [-1, 1], [-0.5, 1], [0, 1], [-2, 0], [-1.5, 0], [-1, 0], [-0.5, 0], [0, 0]]"
   ]
  },
  {
   "cell_type": "code",
   "execution_count": 4,
   "metadata": {
    "collapsed": true
   },
   "outputs": [],
   "source": [
    "size_per_category = 1000"
   ]
  },
  {
   "cell_type": "code",
   "execution_count": 5,
   "metadata": {
    "collapsed": true
   },
   "outputs": [],
   "source": [
    "palette = ['red', 'green', 'blue', 'cyan', 'magenta', 'orange', 'yellow', 'lightgreen', 'skyblue', 'orchid']"
   ]
  },
  {
   "cell_type": "code",
   "execution_count": 6,
   "metadata": {
    "collapsed": false
   },
   "outputs": [],
   "source": [
    "def generate_distribution(mean_array, size_per_category):\n",
    "    points = pd.DataFrame()\n",
    "    x = []\n",
    "    y = []\n",
    "    category = []\n",
    "    index = 0\n",
    "    for mean in mean_array:\n",
    "        gaussian_normal_points = np.random.normal(loc=mean, scale=[0.3,0.3], size=[size_per_category, 2])\n",
    "        x += list(gaussian_normal_points[:, 0])\n",
    "        y += list(gaussian_normal_points[:, 1])\n",
    "        category += [index] * size_per_category\n",
    "        index += 1\n",
    "    points['x'] = x\n",
    "    points['y'] = y\n",
    "    points['category'] = category\n",
    "    return points"
   ]
  },
  {
   "cell_type": "code",
   "execution_count": 7,
   "metadata": {
    "collapsed": true
   },
   "outputs": [],
   "source": [
    "def plot_distribution(distribution):\n",
    "    legend = [('Category '+ str(index+1)) for index in range(10)]\n",
    "    plt.figure(figsize=(15,8))\n",
    "    for index in range(10):\n",
    "        data = distribution[distribution['category'] == index]\n",
    "        plt.scatter(data['x'], data['y'], c=palette[index], s=5)\n",
    "        plt.xlabel('x')\n",
    "        plt.ylabel('y')\n",
    "        plt.legend((legend), loc=1)"
   ]
  },
  {
   "cell_type": "code",
   "execution_count": 8,
   "metadata": {
    "collapsed": false
   },
   "outputs": [],
   "source": [
    "separated = generate_distribution(separated_means, size_per_category)\n",
    "#plot_distribution(separated)"
   ]
  },
  {
   "cell_type": "code",
   "execution_count": 9,
   "metadata": {
    "collapsed": false
   },
   "outputs": [],
   "source": [
    "overlapped = generate_distribution(overlapped_means, size_per_category)\n",
    "#plot_distribution(overlapped)"
   ]
  },
  {
   "cell_type": "code",
   "execution_count": 10,
   "metadata": {
    "collapsed": false
   },
   "outputs": [],
   "source": [
    "highly_overlapped = generate_distribution(highly_overlapped_means, size_per_category)\n",
    "#plot_distribution(highly_overlapped)"
   ]
  },
  {
   "cell_type": "markdown",
   "metadata": {},
   "source": [
    "# Imbalanced"
   ]
  },
  {
   "cell_type": "markdown",
   "metadata": {},
   "source": [
    "Run for r in [0.01, 0.05, 0.1, 0.5, 0.9] and m in [1,9]"
   ]
  },
  {
   "cell_type": "markdown",
   "metadata": {},
   "source": [
    "Simulating for one test case:"
   ]
  },
  {
   "cell_type": "code",
   "execution_count": 11,
   "metadata": {
    "collapsed": true
   },
   "outputs": [],
   "source": [
    "m = 2\n",
    "r = 0.01\n",
    "k = 10\n",
    "imbalanced_size = 2000"
   ]
  },
  {
   "cell_type": "code",
   "execution_count": 12,
   "metadata": {
    "collapsed": false
   },
   "outputs": [],
   "source": [
    "def sample_imbalanced_data(data, imbalanced_size, m, r, k):\n",
    "    p_min = r/10 #for m classes\n",
    "    p_max = (1 - (p_min * m))/(k - m) #for k-m classes\n",
    "    minority_positions = ([p_min] * m + [p_max] * (k - m))\n",
    "    np.random.shuffle(minority_positions)\n",
    "    class_probabilities = [(proba/size_per_category) for proba in minority_positions]\n",
    "    p = [class_probabilities[category] for category in data['category']]\n",
    "    indices = np.arange(len(data))\n",
    "    selected_indices = np.random.choice(indices, imbalanced_size, p=p)\n",
    "    imbalanced_samples = data.iloc[selected_indices, :]\n",
    "    imbalanced_samples.reset_index(inplace=True, drop=True)\n",
    "    return imbalanced_samples"
   ]
  },
  {
   "cell_type": "code",
   "execution_count": 13,
   "metadata": {
    "collapsed": false
   },
   "outputs": [],
   "source": [
    "separated_imbalanced = sample_imbalanced_data(separated, imbalanced_size, m, r, k)\n",
    "#plot_distribution(separated_imbalanced)"
   ]
  },
  {
   "cell_type": "code",
   "execution_count": 14,
   "metadata": {
    "collapsed": false
   },
   "outputs": [],
   "source": [
    "overlapped_imbalanced = sample_imbalanced_data(overlapped, imbalanced_size, m, r, k)\n",
    "#plot_distribution(overlapped_imbalanced)"
   ]
  },
  {
   "cell_type": "code",
   "execution_count": 15,
   "metadata": {
    "collapsed": false
   },
   "outputs": [],
   "source": [
    "highly_overlapped_imbalanced = sample_imbalanced_data(highly_overlapped, imbalanced_size, m, r, k)\n",
    "#plot_distribution(highly_overlapped_imbalanced)"
   ]
  },
  {
   "cell_type": "code",
   "execution_count": 16,
   "metadata": {
    "collapsed": true
   },
   "outputs": [],
   "source": [
    "def imbalance_ratio(data):\n",
    "    value_counts = data['category'].value_counts()\n",
    "    counts = [count for category, count in value_counts.iteritems()]\n",
    "    count_max = max(counts)\n",
    "    count_min = min(counts)\n",
    "    IR = count_max / count_min\n",
    "    return IR"
   ]
  },
  {
   "cell_type": "code",
   "execution_count": 17,
   "metadata": {
    "collapsed": true
   },
   "outputs": [],
   "source": [
    "def hellinger_distance(vec1, vec2):\n",
    "    return np.sqrt(np.sum((np.sqrt(vec1) - np.sqrt(vec2)) ** 2)) / np.sqrt(2)"
   ]
  },
  {
   "cell_type": "code",
   "execution_count": 18,
   "metadata": {
    "collapsed": false
   },
   "outputs": [],
   "source": [
    "def imbalance_degree(data, c):\n",
    "    value_counts = data['category'].value_counts()\n",
    "    counts = [count for category, count in value_counts.iteritems()]\n",
    "    size = len(data)\n",
    "    p = np.array(counts) / size\n",
    "    if (len(p) < c):\n",
    "        p = np.concatenate((p, [0] * (c-len(p))))\n",
    "    b = [1/c] * c\n",
    "    m = 0\n",
    "    for prob in (p-b):\n",
    "        if prob < 0:\n",
    "            m +=1\n",
    "    p_m = [0] * m + [1/c] * (c-m-1) + [1-(c-m-1)/c]\n",
    "    ID = (hellinger_distance(p,b) / hellinger_distance(p_m,b)) + (m-1)\n",
    "    return ID"
   ]
  },
  {
   "cell_type": "code",
   "execution_count": 19,
   "metadata": {
    "collapsed": true
   },
   "outputs": [],
   "source": [
    "def log_likelihood_index(data):\n",
    "    c = len(np.unique(data['category']))\n",
    "    b = np.array([1/c] * c)\n",
    "    value_counts = data['category'].value_counts()\n",
    "    size = len(data)\n",
    "    proba = [(count/size) for category, count in value_counts.iteritems()]\n",
    "    n = [count for _, count in value_counts.iteritems()]\n",
    "    summation = np.sum([(p*np.log(p*c)) for p in proba])\n",
    "    LLI = 2 * summation\n",
    "    return LLI"
   ]
  },
  {
   "cell_type": "raw",
   "metadata": {
    "collapsed": true
   },
   "source": [
    "def tangential_imbalance_degree(data):\n",
    "    c = len(np.unique(data['category']))\n",
    "    b = np.array([1/c] * c)\n",
    "    value_counts = data['category'].value_counts()\n",
    "    size = len(data)\n",
    "    proba = [(count/size) for category, count in value_counts.iteritems()]\n",
    "    n = [count for _, count in value_counts.iteritems()]\n",
    "    TID = np.sum(proba * np.tan(proba-b))\n",
    "    return TID"
   ]
  },
  {
   "cell_type": "code",
   "execution_count": 53,
   "metadata": {
    "collapsed": true
   },
   "outputs": [],
   "source": [
    "def tangential_imbalance_degree(data):\n",
    "    targets = data['category']\n",
    "    unique, n = np.unique(targets, return_counts=True)\n",
    "    c = len(unique)\n",
    "    N = len(targets)\n",
    "    b = [1/c] * c\n",
    "    p = n / N\n",
    "    unique = unique\n",
    "    counts = n\n",
    "    ic = -2 * p*np.tan(b-p)\n",
    "    signs = np.array([-1 if x < 0 else 1 for x in ic])\n",
    "    #ic = np.sqrt(np.absolute(ic)) * signs\n",
    "    tid = np.absolute(np.sum(ic))\n",
    "    return tid"
   ]
  },
  {
   "cell_type": "markdown",
   "metadata": {},
   "source": [
    "# Simulating for all values"
   ]
  },
  {
   "cell_type": "code",
   "execution_count": 54,
   "metadata": {
    "collapsed": true
   },
   "outputs": [],
   "source": [
    "def compute_graphs(distribution, imbalanced_size, k):\n",
    "    results = []\n",
    "    for m in range(1,k):\n",
    "        IR = []\n",
    "        ID = []\n",
    "        LLI = []\n",
    "        TID = []\n",
    "        for r in [0.01, 0.05, 0.1, 0.5, 0.9]:\n",
    "            imbalanced_data = sample_imbalanced_data(distribution, imbalanced_size, m, r, k)\n",
    "            IR.append(imbalance_ratio(imbalanced_data))\n",
    "            ID.append(imbalance_degree(imbalanced_data, k))\n",
    "            LLI.append(log_likelihood_index(imbalanced_data))\n",
    "            TID.append(tangential_imbalance_degree(imbalanced_data))\n",
    "        result = {}\n",
    "        result['ir'] = IR\n",
    "        result['id'] = ID\n",
    "        result['lli'] = LLI\n",
    "        result['tid'] = TID\n",
    "        results.append(result)\n",
    "    return results"
   ]
  },
  {
   "cell_type": "code",
   "execution_count": 55,
   "metadata": {
    "collapsed": false
   },
   "outputs": [],
   "source": [
    "def plot_graph(distribution, metric, legend, k=10, imbalanced_size=5000):\n",
    "    data_points = compute_graphs(distribution, imbalanced_size, k)\n",
    "    #plt.figure(figsize=(10,6))\n",
    "    index = 0\n",
    "    r_values = [0.01, 0.05, 0.1, 0.5, 0.9999]\n",
    "    legend = [('m = ' + str(i)) for i in range(1,10)]\n",
    "    for category in data_points:\n",
    "        scores = category[metric]\n",
    "        plt.plot(r_values, scores)\n",
    "        plt.xlabel('r')\n",
    "        plt.ylabel(metric.upper())\n",
    "        #print(scores)\n",
    "    plt.legend((legend), loc=1, fontsize='medium', framealpha=0.2)"
   ]
  },
  {
   "cell_type": "code",
   "execution_count": 56,
   "metadata": {
    "collapsed": false
   },
   "outputs": [
    {
     "data": {
      "image/png": "[encoded data removed]",
      "text/plain": [
       "<matplotlib.figure.Figure at 0x99534639e8>"
      ]
     },
     "metadata": {},
     "output_type": "display_data"
    }
   ],
   "source": [
    "plot_graph(highly_overlapped, 'lli', legend=True)"
   ]
  },
  {
   "cell_type": "code",
   "execution_count": 57,
   "metadata": {
    "collapsed": false
   },
   "outputs": [
    {
     "data": {
      "image/png": "[encoded data removed]",
      "text/plain": [
       "<matplotlib.figure.Figure at 0x99556ba5f8>"
      ]
     },
     "metadata": {},
     "output_type": "display_data"
    }
   ],
   "source": [
    "plot_graph(highly_overlapped, 'tid', legend=True)"
   ]
  },
  {
   "cell_type": "code",
   "execution_count": null,
   "metadata": {
    "collapsed": true
   },
   "outputs": [],
   "source": []
  },
  {
   "cell_type": "code",
   "execution_count": null,
   "metadata": {
    "collapsed": true
   },
   "outputs": [],
   "source": []
  },
  {
   "cell_type": "code",
   "execution_count": null,
   "metadata": {
    "collapsed": true
   },
   "outputs": [],
   "source": []
  }
 ],
 "metadata": {
  "kernelspec": {
   "display_name": "Python 3",
   "language": "python",
   "name": "python3"
  },
  "language_info": {
   "codemirror_mode": {
    "name": "ipython",
    "version": 3
   },
   "file_extension": ".py",
   "mimetype": "text/x-python",
   "name": "python",
   "nbconvert_exporter": "python",
   "pygments_lexer": "ipython3",
   "version": "3.6.0"
  }
 },
 "nbformat": 4,
 "nbformat_minor": 2
}
